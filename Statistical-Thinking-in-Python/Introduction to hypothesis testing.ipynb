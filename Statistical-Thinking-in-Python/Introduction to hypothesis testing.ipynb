{
 "cells": [
  {
   "cell_type": "markdown",
   "metadata": {},
   "source": [
    "# Introduction to hypothesis testing\n"
   ]
  },
  {
   "cell_type": "markdown",
   "metadata": {},
   "source": [
    "Generating a permutation sample\n",
    "In the video, you learned that permutation sampling is a great way to simulate the hypothesis that two variables have identical probability distributions. This is often a hypothesis you want to test, so in this exercise, you will write a function to generate a permutation sample from two data sets.\n",
    "\n",
    "Remember, a permutation sample of two arrays having respectively n1 and n2 entries is constructed by concatenating the arrays together, scrambling the contents of the concatenated array, and then taking the first n1 entries as the permutation sample of the first array and the last n2 entries as the permutation sample of the second array."
   ]
  },
  {
   "cell_type": "code",
   "execution_count": null,
   "metadata": {},
   "outputs": [],
   "source": [
    "Concatenate the two input arrays into one using np.concatenate(). Be sure to pass in data1 and data2 as one argument (data1, data2).\n",
    "\n",
    "Use np.random.permutation() to permute the concatenated array.\n",
    "\n",
    "Store the first len(data1) entries of permuted_data as perm_sample_1 and the last len(data2) entries of permuted_data as perm_sample_2. In practice, this can be achieved by using :len(data1) and len(data1): to slice permuted_data.\n",
    "\n",
    "Return perm_sample_1 and perm_sample_2"
   ]
  },
  {
   "cell_type": "code",
   "execution_count": 2,
   "metadata": {},
   "outputs": [
    {
     "data": {
      "image/png": "[encoded data removed]",
      "text/plain": [
       "<Figure size 432x288 with 1 Axes>"
      ]
     },
     "metadata": {
      "needs_background": "light"
     },
     "output_type": "display_data"
    }
   ],
   "source": [
    "import numpy as np\n",
    "import matplotlib.pyplot as plt\n",
    "\n",
    "def ecdf(data):\n",
    "    \"\"\"Compute ECDF for a one-dimensional array of measurements.\"\"\"\n",
    "    # Number of data points: n\n",
    "    n = len(data)\n",
    "\n",
    "    # x-data for the ECDF: x\n",
    "    x = np.sort(data)\n",
    "\n",
    "    # y-data for the ECDF: y\n",
    "    y = np.arange(1, n+1) / n\n",
    "    \n",
    "    return x, y\n",
    "\n",
    "a =[66.2, 39.7, 76.4, 26.5, 11.2, 61.8, 6.1, 48.4, 89.2, 104.0, 34.0, 60.6, 57.1, 79.1, 90.9, 32.3, 63.8, 78.2, 27.5, 43.4, 30.1, 17.3, 77.5, 44.9, 92.2, 39.6, 79.4, 66.1, 53.5, 98.5, 20.8, 55.5, 39.6, 56.0, 65.1, 14.8, 13.2, 88.1, 8.4, 32.1, 19.6, 40.4, 2.2, 77.5, 105.4, 77.2, 38.0, 27.1, 111.8, 17.2, 26.7, 23.3, 77.2, 87.2, 27.7, 50.6, 60.3, 15.1, 6.0, 29.4, 39.3, 56.3, 80.4, 85.3, 68.4, 72.5, 13.3, 28.4, 14.7, 37.4, 49.5, 57.2, 85.9, 82.1, 31.8, 126.6, 30.7, 41.4, 33.9, 13.5, 99.1, 70.2, 91.8, 61.3, 13.7, 54.9, 62.5, 24.2, 69.4, 83.1, 44.0, 48.5, 11.9, 16.6, 66.4, 90.0, 34.9, 132.8, 33.4, 225.0, 7.6, 40.9, 76.5, 48.0, 140.0, 55.9, 54.1, 46.4, 68.6, 52.2, 108.3, 14.6, 11.3, 29.8, 130.9, 152.4, 61.0, 46.6, 43.9, 30.9, 111.1, 68.5, 42.2, 9.8, 285.6, 56.7, 168.2, 41.2, 47.8, 166.6, 37.8, 45.4, 43.2]\n",
    "b =[83.6, 30.9, 62.2, 37.0, 41.0, 160.2, 18.2, 122.4, 71.3, 44.2, 49.1, 37.6, 114.5, 28.8, 82.5, 71.9, 50.7, 67.7, 112.0, 63.6, 42.8, 57.2, 99.1, 86.4, 84.4, 38.1, 17.7, 102.2, 101.3, 58.0, 82.0, 101.4, 81.4, 100.1, 54.6, 39.6, 57.5, 29.2, 48.8, 37.3, 115.4, 55.6, 62.0, 95.0, 84.2, 118.1, 153.2, 83.4, 104.7, 59.0, 46.4, 50.0, 147.6, 76.8, 59.9, 101.8, 136.6, 173.0, 92.5, 37.0, 59.8, 142.1, 9.9, 158.2, 72.6, 28.0, 112.9, 119.3, 199.2, 50.7, 44.0, 170.7, 67.2, 21.4, 61.3, 15.6, 106.0, 116.2, 42.3, 38.5, 132.5, 40.8, 147.5, 93.9, 71.4, 87.3, 163.7, 141.4, 62.6, 84.9, 28.8, 121.1, 28.6, 32.4, 112.0, 50.0, 96.9, 81.8, 70.4, 117.5, 41.2, 124.9, 78.2, 93.0, 53.5, 50.5, 42.6, 47.9, 73.1, 129.1, 56.9, 103.3, 60.5, 134.3, 93.1, 49.5, 48.2, 167.9, 27.0, 111.1, 55.4, 36.2, 57.4, 66.8, 58.3, 60.0, 161.6, 112.7, 37.4, 110.6, 56.6, 95.8, 126.8]\n",
    "\n",
    "rain_june = np.array(a)\n",
    "rain_november = np.array(b)\n",
    "np.savetxt(\"rain_june.csv\", rain_june, delimiter= \",\")\n",
    "np.savetxt(\"rain_november.csv\", rain_november, delimiter= \",\")\n",
    "\n",
    "\n",
    "def permutation_sample(data1, data2):\n",
    "    \"\"\"Generate a permutation sample from two data sets.\"\"\"\n",
    "\n",
    "    # Concatenate the data sets: data *** inside the bracket np.concatenate() have to be tuple ((data1,data2))\n",
    "    data = np.concatenate((data1, data2))\n",
    "\n",
    "    # Permute the concatenated array: permuted_data\n",
    "    permuted_data = np.random.permutation(data)\n",
    "\n",
    "    # Split the permuted array into two: perm_sample_1, perm_sample_2\n",
    "    perm_sample_1 = permuted_data[:len(data1)]\n",
    "    perm_sample_2 = permuted_data[len(data1):]\n",
    "\n",
    "    return perm_sample_1, perm_sample_2\n",
    "\n",
    "\n",
    "\n",
    "for i in range(50):\n",
    "    # Generate permutation samples\n",
    "    perm_sample_1, perm_sample_2 = permutation_sample(rain_june, rain_november)\n",
    "\n",
    "    # Compute ECDFs\n",
    "    x_1, y_1 = ecdf(perm_sample_1)\n",
    "    x_2, y_2 = ecdf(perm_sample_2)\n",
    "\n",
    "    # Plot ECDFs of permutation sample\n",
    "    _ = plt.plot(x_1, y_1, marker='.', linestyle='none',\n",
    "                 color='red', alpha=0.02)\n",
    "    _ = plt.plot(x_2, y_2, marker='.', linestyle='none',\n",
    "                 color='blue', alpha=0.02)\n",
    "\n",
    "# Create and plot ECDFs from original data\n",
    "x_1, y_1 = ecdf(rain_june)\n",
    "x_2, y_2 = ecdf(rain_november)\n",
    "_ = plt.plot(x_1, y_1, marker='.', linestyle='none', color='red')\n",
    "_ = plt.plot(x_2, y_2, marker='.', linestyle='none', color='blue')\n",
    "\n",
    "# Label axes, set margin, and show plot\n",
    "plt.margins(0.02)\n",
    "_ = plt.xlabel('monthly rainfall (mm)')\n",
    "_ = plt.ylabel('ECDF')\n",
    "plt.show()"
   ]
  },
  {
   "cell_type": "markdown",
   "metadata": {},
   "source": [
    "Notice that the permutation samples ECDFs overlap and give a purple haze. None of the ECDFs from the permutation samples overlap with the observed data, [suggesting that the hypothesis is not commensurate with the data. June and November rainfall are not identically distributed.]"
   ]
  },
  {
   "cell_type": "code",
   "execution_count": null,
   "metadata": {},
   "outputs": [],
   "source": []
  },
  {
   "cell_type": "code",
   "execution_count": null,
   "metadata": {},
   "outputs": [],
   "source": []
  },
  {
   "cell_type": "code",
   "execution_count": null,
   "metadata": {},
   "outputs": [],
   "source": [
    "def draw_perm_reps(data_1, data_2, func, size=1):\n",
    "    \"\"\"Generate multiple permutation replicates.\"\"\"\n",
    "\n",
    "    # Initialize array of replicates: perm_replicates\n",
    "    perm_replicates = np.empty(size)\n",
    "\n",
    "    for i in range(size):\n",
    "        # Generate permutation sample\n",
    "        perm_sample_1, perm_sample_2 = permutation_sample(data_1, data_2)\n",
    "\n",
    "        # Compute the test statistic\n",
    "        perm_replicates[i] = func(perm_sample_1, perm_sample_2)\n",
    "\n",
    "    return perm_replicates"
   ]
  },
  {
   "cell_type": "markdown",
   "metadata": {},
   "source": [
    "## Look before you leap: EDA before hypothesis testing\n",
    "\n",
    "Kleinteich and Gorb (Sci. Rep., 4, 5225, 2014) performed an interesting experiment with South American horned frogs. They held a plate connected to a force transducer, along with a bait fly, in front of them. They then measured the impact force and adhesive force of the frog's tongue when it struck the target.\n",
    "\n",
    "Frog A is an adult and Frog B is a juvenile. The researchers measured the impact force of 20 strikes for each frog. In the next exercise, we will test the hypothesis that the two frogs have the same distribution of impact forces. But, remember, it is important to do EDA first! Let's make a bee swarm plot for the data. They are stored in a Pandas data frame, df, where column ID is the identity of the frog and column impact_force is the impact force in Newtons (N)."
   ]
  },
  {
   "cell_type": "code",
   "execution_count": 7,
   "metadata": {},
   "outputs": [
    {
     "name": "stdout",
     "output_type": "stream",
     "text": [
      "   ID  impact_force\n",
      "20  A         1.612\n",
      "21  A         0.605\n",
      "22  A         0.327\n",
      "23  A         0.946\n",
      "24  A         0.541\n",
      "25  A         1.539\n",
      "26  A         0.529\n",
      "27  A         0.628\n",
      "28  A         1.453\n",
      "29  A         0.297\n",
      "30  A         0.703\n",
      "31  A         0.269\n",
      "32  A         0.751\n",
      "33  A         0.245\n",
      "34  A         1.182\n",
      "35  A         0.515\n",
      "36  A         0.435\n",
      "37  A         0.383\n",
      "38  A         0.457\n",
      "39  A         0.730\n",
      "60  B         0.172\n",
      "61  B         0.142\n",
      "62  B         0.037\n",
      "63  B         0.453\n",
      "64  B         0.355\n",
      "65  B         0.022\n",
      "66  B         0.502\n",
      "67  B         0.273\n",
      "68  B         0.720\n",
      "69  B         0.582\n",
      "70  B         0.198\n",
      "71  B         0.198\n",
      "72  B         0.597\n",
      "73  B         0.516\n",
      "74  B         0.815\n",
      "75  B         0.402\n",
      "76  B         0.605\n",
      "77  B         0.711\n",
      "78  B         0.614\n",
      "79  B         0.468\n"
     ]
    },
    {
     "data": {
      "image/png": "[encoded data removed]",
      "text/plain": [
       "<Figure size 432x288 with 1 Axes>"
      ]
     },
     "metadata": {},
     "output_type": "display_data"
    }
   ],
   "source": [
    "# Import plotting modules\n",
    "import matplotlib.pyplot as plt\n",
    "import seaborn as sns\n",
    "import pandas as pd\n",
    "\n",
    "# print(df.to_dict())\n",
    "# df.to_csv(r'C:\\Users\\Ttaksinavongskul\\frogforce.csv, index=False')\n",
    "# pd.read_csv()\n",
    "\n",
    "\n",
    "dict_a = {'ID': {20: 'A', 21: 'A', 22: 'A', 23: 'A', 24: 'A', 25: 'A', 26: 'A', 27: 'A', 28: 'A', 29: 'A', 30: 'A', 31: 'A', 32: 'A', 33: 'A', 34: 'A', 35: 'A', 36: 'A', 37: 'A', 38: 'A', 39: 'A', 60: 'B', 61: 'B', 62: 'B', 63: 'B', 64: 'B', 65: 'B', 66: 'B', 67: 'B', 68: 'B', 69: 'B', 70: 'B', 71: 'B', 72: 'B', 73: 'B', 74: 'B', 75: 'B', 76: 'B', 77: 'B', 78: 'B', 79: 'B'}, 'impact_force': {20: 1.612, 21: 0.605, 22: 0.327, 23: 0.946, 24: 0.541, 25: 1.539, 26: 0.529, 27: 0.628, 28: 1.453, 29: 0.297, 30: 0.703, 31: 0.269, 32: 0.751, 33: 0.245, 34: 1.182, 35: 0.515, 36: 0.435, 37: 0.383, 38: 0.457, 39: 0.73, 60: 0.172, 61: 0.142, 62: 0.037, 63: 0.453, 64: 0.355, 65: 0.022, 66: 0.502, 67: 0.273, 68: 0.72, 69: 0.582, 70: 0.198, 71: 0.198, 72: 0.597, 73: 0.516, 74: 0.815, 75: 0.402, 76: 0.605, 77: 0.711, 78: 0.614, 79: 0.468}}\n",
    "\n",
    "df = pd.DataFrame.from_dict(dict_a, orient='columns')\n",
    "print(df)\n",
    "\n",
    "# Set default Seaborn style\n",
    "sns.set()\n",
    "\n",
    "\n",
    "# Make bee swarm plot\n",
    "_ = sns.swarmplot(x='ID',y='impact_force', data=df)\n",
    "\n",
    "# Label axes\n",
    "_ = plt.xlabel('frog')\n",
    "_ = plt.ylabel('impact force (N)')\n",
    "\n",
    "# Show the plot\n",
    "plt.show()\n"
   ]
  },
  {
   "cell_type": "markdown",
   "metadata": {},
   "source": [
    "Eyeballing it, it does not look like they come from the same distribution. Frog A, the adult, has three or four very hard strikes, and Frog B, the juvenile, has a couple weak ones. However, it is possible that with only 20 samples it might be too difficult to tell if they have difference distributions, so we should proceed with the hypothesis test."
   ]
  },
  {
   "cell_type": "code",
   "execution_count": null,
   "metadata": {},
   "outputs": [],
   "source": []
  },
  {
   "cell_type": "code",
   "execution_count": 4,
   "metadata": {},
   "outputs": [
    {
     "name": "stdout",
     "output_type": "stream",
     "text": [
      "                 20     21     22     23     24     25     26     27     28  \\\n",
      "ID                A      A      A      A      A      A      A      A      A   \n",
      "impact_force  1.612  0.605  0.327  0.946  0.541  1.539  0.529  0.628  1.453   \n",
      "\n",
      "                 29  ...     70     71     72     73     74     75     76  \\\n",
      "ID                A  ...      B      B      B      B      B      B      B   \n",
      "impact_force  0.297  ...  0.198  0.198  0.597  0.516  0.815  0.402  0.605   \n",
      "\n",
      "                 77     78     79  \n",
      "ID                B      B      B  \n",
      "impact_force  0.711  0.614  0.468  \n",
      "\n",
      "[2 rows x 40 columns]\n"
     ]
    }
   ],
   "source": [
    "# how to df from dict using pd.DataFrame.from_dict()\n",
    "import pandas as pd\n",
    "\n",
    "dict_a = {'ID': {20: 'A', 21: 'A', 22: 'A', 23: 'A', 24: 'A', 25: 'A', 26: 'A', 27: 'A', 28: 'A', 29: 'A', 30: 'A', 31: 'A', 32: 'A', 33: 'A', 34: 'A', 35: 'A', 36: 'A', 37: 'A', 38: 'A', 39: 'A', 60: 'B', 61: 'B', 62: 'B', 63: 'B', 64: 'B', 65: 'B', 66: 'B', 67: 'B', 68: 'B', 69: 'B', 70: 'B', 71: 'B', 72: 'B', 73: 'B', 74: 'B', 75: 'B', 76: 'B', 77: 'B', 78: 'B', 79: 'B'}, 'impact_force': {20: 1.612, 21: 0.605, 22: 0.327, 23: 0.946, 24: 0.541, 25: 1.539, 26: 0.529, 27: 0.628, 28: 1.453, 29: 0.297, 30: 0.703, 31: 0.269, 32: 0.751, 33: 0.245, 34: 1.182, 35: 0.515, 36: 0.435, 37: 0.383, 38: 0.457, 39: 0.73, 60: 0.172, 61: 0.142, 62: 0.037, 63: 0.453, 64: 0.355, 65: 0.022, 66: 0.502, 67: 0.273, 68: 0.72, 69: 0.582, 70: 0.198, 71: 0.198, 72: 0.597, 73: 0.516, 74: 0.815, 75: 0.402, 76: 0.605, 77: 0.711, 78: 0.614, 79: 0.468}}\n",
    "\n",
    "df = pd.DataFrame.from_dict(dict_a, orient='index')\n",
    "print(df)"
   ]
  },
  {
   "cell_type": "code",
   "execution_count": 6,
   "metadata": {},
   "outputs": [
    {
     "name": "stdout",
     "output_type": "stream",
     "text": [
      "   ID  impact_force\n",
      "20  A         1.612\n",
      "21  A         0.605\n",
      "22  A         0.327\n",
      "23  A         0.946\n",
      "24  A         0.541\n",
      "25  A         1.539\n",
      "26  A         0.529\n",
      "27  A         0.628\n",
      "28  A         1.453\n",
      "29  A         0.297\n",
      "30  A         0.703\n",
      "31  A         0.269\n",
      "32  A         0.751\n",
      "33  A         0.245\n",
      "34  A         1.182\n",
      "35  A         0.515\n",
      "36  A         0.435\n",
      "37  A         0.383\n",
      "38  A         0.457\n",
      "39  A         0.730\n",
      "60  B         0.172\n",
      "61  B         0.142\n",
      "62  B         0.037\n",
      "63  B         0.453\n",
      "64  B         0.355\n",
      "65  B         0.022\n",
      "66  B         0.502\n",
      "67  B         0.273\n",
      "68  B         0.720\n",
      "69  B         0.582\n",
      "70  B         0.198\n",
      "71  B         0.198\n",
      "72  B         0.597\n",
      "73  B         0.516\n",
      "74  B         0.815\n",
      "75  B         0.402\n",
      "76  B         0.605\n",
      "77  B         0.711\n",
      "78  B         0.614\n",
      "79  B         0.468\n"
     ]
    }
   ],
   "source": [
    "# how to df from dict using pd.DataFrame.from_dict()\n",
    "\n",
    "import pandas as pd\n",
    "\n",
    "dict_a = {'ID': {20: 'A', 21: 'A', 22: 'A', 23: 'A', 24: 'A', 25: 'A', 26: 'A', 27: 'A', 28: 'A', 29: 'A', 30: 'A', 31: 'A', 32: 'A', 33: 'A', 34: 'A', 35: 'A', 36: 'A', 37: 'A', 38: 'A', 39: 'A', 60: 'B', 61: 'B', 62: 'B', 63: 'B', 64: 'B', 65: 'B', 66: 'B', 67: 'B', 68: 'B', 69: 'B', 70: 'B', 71: 'B', 72: 'B', 73: 'B', 74: 'B', 75: 'B', 76: 'B', 77: 'B', 78: 'B', 79: 'B'}, 'impact_force': {20: 1.612, 21: 0.605, 22: 0.327, 23: 0.946, 24: 0.541, 25: 1.539, 26: 0.529, 27: 0.628, 28: 1.453, 29: 0.297, 30: 0.703, 31: 0.269, 32: 0.751, 33: 0.245, 34: 1.182, 35: 0.515, 36: 0.435, 37: 0.383, 38: 0.457, 39: 0.73, 60: 0.172, 61: 0.142, 62: 0.037, 63: 0.453, 64: 0.355, 65: 0.022, 66: 0.502, 67: 0.273, 68: 0.72, 69: 0.582, 70: 0.198, 71: 0.198, 72: 0.597, 73: 0.516, 74: 0.815, 75: 0.402, 76: 0.605, 77: 0.711, 78: 0.614, 79: 0.468}}\n",
    "\n",
    "df = pd.DataFrame.from_dict(dict_a, orient='columns')\n",
    "print(df)\n",
    "\n",
    "# pd.DataFrame.from_dict(dict, orient='columns', columns = ['A','B', 'C', 'D'])"
   ]
  },
  {
   "cell_type": "code",
   "execution_count": null,
   "metadata": {},
   "outputs": [],
   "source": []
  },
  {
   "cell_type": "markdown",
   "metadata": {},
   "source": []
  },
  {
   "cell_type": "markdown",
   "metadata": {},
   "source": [
    "## Permutation test on frog data"
   ]
  },
  {
   "cell_type": "code",
   "execution_count": null,
   "metadata": {},
   "outputs": [],
   "source": []
  },
  {
   "cell_type": "code",
   "execution_count": 12,
   "metadata": {},
   "outputs": [
    {
     "name": "stdout",
     "output_type": "stream",
     "text": [
      "lenght of perm_replicates = 10000\n",
      "p-value = 0.0047\n"
     ]
    }
   ],
   "source": [
    "import numpy as np\n",
    "\n",
    "a = [1.612, 0.605, 0.327, 0.946, 0.541, 1.539, 0.529, 0.628, 1.453, 0.297, 0.703, 0.269, 0.751, 0.245, 1.182, 0.515, 0.435, 0.383, 0.457, 0.73]\n",
    "b = [0.172, 0.142, 0.037, 0.453, 0.355, 0.022, 0.502, 0.273, 0.72, 0.582, 0.198, 0.198, 0.597, 0.516, 0.815, 0.402, 0.605, 0.711, 0.614, 0.468]\n",
    "\n",
    "force_a = np.array(a)\n",
    "force_b = np.array(b)\n",
    "\n",
    "def draw_perm_reps(data_1, data_2, func, size=1):\n",
    "    \"\"\"Generate multiple permutation replicates.\"\"\"\n",
    "\n",
    "    # Initialize array of replicates: perm_replicates\n",
    "    perm_replicates = np.empty(size)\n",
    "\n",
    "    for i in range(size):\n",
    "        # Generate permutation sample\n",
    "        perm_sample_1, perm_sample_2 = permutation_sample(data_1, data_2)\n",
    "\n",
    "        # Compute the test statistic\n",
    "        perm_replicates[i] = func(perm_sample_1, perm_sample_2)\n",
    "\n",
    "    return perm_replicates\n",
    "\n",
    "\n",
    "def diff_of_means(data_1, data_2):\n",
    "    \"\"\"Difference in means of two arrays.\"\"\"\n",
    "\n",
    "    # The difference of means of data_1, data_2: diff\n",
    "    diff = np.mean(data_1) - np.mean(data_2)\n",
    "\n",
    "    return diff\n",
    "\n",
    "# Compute difference of mean impact force from experiment: empirical_diff_means\n",
    "empirical_diff_means = diff_of_means(force_a, force_b)\n",
    "\n",
    "# Draw 10,000 permutation replicates: perm_replicates\n",
    "perm_replicates = draw_perm_reps(force_a, force_b,\n",
    "                                 diff_of_means, size=10000)\n",
    "\n",
    "# Compute p-value: p\n",
    "p = np.sum(perm_replicates >= empirical_diff_means) / len(perm_replicates)\n",
    "\n",
    "print('lenght of perm_replicates =', len(perm_replicates))\n",
    "\n",
    "# Print the result\n",
    "print('p-value =', p)"
   ]
  },
  {
   "cell_type": "markdown",
   "metadata": {},
   "source": [
    "The p-value tells you that there is about a 0.6% chance that you would get the difference of means observed in the experiment if frogs were exactly the same. A p-value below 0.01 is typically said to be \"statistically significant,\" but: warning! warning! warning! You have computed a p-value; it is a number. I encourage you not to distill it to a yes-or-no phrase. p = 0.006 and p = 0.000000006 are both said to be \"statistically significant,\" but they are definitely not the same!"
   ]
  },
  {
   "cell_type": "markdown",
   "metadata": {},
   "source": [
    "\n",
    "## Null hypothesis significant testing (NHST)\n",
    "\n",
    "Another name for what we are doing in this chapter\n",
    "\n"
   ]
  },
  {
   "attachments": {
    "image.png": {
     "image/png": "[encoded data removed]"
    }
   },
   "cell_type": "markdown",
   "metadata": {},
   "source": [
    "![image.png](attachment:image.png)"
   ]
  },
  {
   "cell_type": "markdown",
   "metadata": {},
   "source": [
    "p-value\n",
    "\n",
    "The probability of obtaining a value of your test statistic that is at\n",
    "least as extreme as what was observed, under the assumption the null\n",
    "hypothesis is true\n",
    "\n",
    "NOT the probability that the null hypothesis is true"
   ]
  },
  {
   "cell_type": "code",
   "execution_count": null,
   "metadata": {},
   "outputs": [],
   "source": []
  },
  {
   "cell_type": "markdown",
   "metadata": {},
   "source": [
    "## A one-sample bootstrap hypothesis test\n",
    "\n",
    "Another juvenile frog was studied, Frog C, and you want to see if Frog B and Frog C have similar impact forces. Unfortunately, you do not have Frog C's impact forces available, but you know they have a mean of 0.55 N. Because you don't have the original data, you cannot do a permutation test, and you cannot assess the hypothesis that the forces from Frog B and Frog C come from the same distribution. You will therefore test another, less restrictive hypothesis: The mean strike force of Frog B is equal to that of Frog C.\n",
    "\n",
    "To set up the bootstrap hypothesis test, you will take the mean as our test statistic. Remember, your goal is to calculate the probability of getting a mean impact force less than or equal to what was observed for Frog B if the hypothesis that the true mean of Frog B's impact forces is equal to that of Frog C is true. You first translate all of the data of Frog B such that the mean is 0.55 N. This involves adding the mean force of Frog C and subtracting the mean force of Frog B from each measurement of Frog B. This leaves other properties of Frog B's distribution, such as the variance, unchanged."
   ]
  },
  {
   "cell_type": "markdown",
   "metadata": {},
   "source": []
  },
  {
   "cell_type": "code",
   "execution_count": null,
   "metadata": {},
   "outputs": [],
   "source": [
    "Translate the impact forces of Frog B such that its mean is 0.55 N.\n",
    "\n",
    "Use your draw_bs_reps() function to take 10,000 bootstrap replicates of the mean of your translated forces.\n",
    "\n",
    "Compute the p-value by finding the fraction of your bootstrap replicates that are less than the observed mean impact force\n",
    "of Frog B. Note that the variable of interest here is force_b.\n",
    "\n",
    "Print your p-value.\n"
   ]
  },
  {
   "cell_type": "code",
   "execution_count": 16,
   "metadata": {},
   "outputs": [
    {
     "name": "stdout",
     "output_type": "stream",
     "text": [
      "p =  0.0047\n"
     ]
    }
   ],
   "source": [
    "def bootstrap_replicate_1d(data, func):\n",
    "#Generate bootstrap replicate of 1D data.\"\"\"\n",
    "    bs_sample = np.random.choice(data, len(data))\n",
    "    return func(bs_sample)\n",
    "\n",
    "\n",
    "def draw_bs_reps(data, func, size=1):\n",
    "    #Draw bootstrap replicates.\"\"\"\n",
    "\n",
    "    # Initialize array of replicates: bs_replicates\n",
    "    bs_replicates = np.empty(size)\n",
    "\n",
    "    # Generate replicates\n",
    "    for i in range(size):\n",
    "        bs_replicates[i] = bootstrap_replicate_1d(data, func)\n",
    "\n",
    "    return bs_replicates\n",
    "\n",
    "\n",
    "# Make an array of translated impact forces: translated_force_b\n",
    "translated_force_b = force_b - np.mean(force_b) + 0.55\n",
    "\n",
    "# Take bootstrap replicates of Frog B's translated impact forces: bs_replicates\n",
    "bs_replicates = draw_bs_reps(translated_force_b, np.mean, 10000)\n",
    "\n",
    "# Compute fraction of replicates that are less than the observed Frog B force: p\n",
    "p = np.sum(bs_replicates <= np.mean(force_b)) / 10000\n",
    "\n",
    "# Print the p-value\n",
    "print('p = ', p)\n"
   ]
  },
  {
   "cell_type": "code",
   "execution_count": null,
   "metadata": {},
   "outputs": [],
   "source": [
    "! The low p-value suggests that the null hypothesis that Frog B and Frog C have the same mean impact force is false."
   ]
  },
  {
   "cell_type": "markdown",
   "metadata": {},
   "source": [
    "## A two-sample bootstrap hypothesis test for difference of means\n",
    "\n",
    "We now want to test the hypothesis that Frog A and Frog B have the same mean impact force, but not necessarily the same distribution, which is also impossible with a permutation test.\n",
    "\n",
    "To do the two-sample bootstrap test, we shift both arrays to have the same mean, since we are simulating the hypothesis that their means are, in fact, equal. We then draw bootstrap samples out of the shifted arrays and compute the difference in means. This constitutes a bootstrap replicate, and we generate many of them. The p-value is the fraction of replicates with a difference in means greater than or equal to what was observed.\n",
    "\n",
    "The objects forces_concat and empirical_diff_means are already in your namespace."
   ]
  },
  {
   "cell_type": "code",
   "execution_count": null,
   "metadata": {},
   "outputs": [],
   "source": [
    "Compute the mean of all forces (from forces_concat) using np.mean().\n",
    "Generate shifted data sets for both force_a and force_b such that the mean of each is the mean of the concatenated array of impact forces.\n",
    "Generate 10,000 bootstrap replicates of the mean each for the two shifted arrays.\n",
    "Compute the bootstrap replicates of the difference of means by subtracting the replicates of the shifted impact force of Frog B from those of Frog A.\n",
    "Compute and print the p-value from your bootstrap replicates."
   ]
  },
  {
   "cell_type": "code",
   "execution_count": null,
   "metadata": {},
   "outputs": [],
   "source": []
  },
  {
   "cell_type": "code",
   "execution_count": 21,
   "metadata": {},
   "outputs": [],
   "source": [
    "# note\n",
    "\n",
    "np.mean(force_a) - np.mean(force_b)\n",
    "Out[5]: 0.28825000000000006\n",
    "    \n",
    "print(empirical_diff_means)\n",
    "0.28825000000000006"
   ]
  },
  {
   "cell_type": "code",
   "execution_count": 29,
   "metadata": {},
   "outputs": [
    {
     "name": "stdout",
     "output_type": "stream",
     "text": [
      "p-value = 0.0047\n"
     ]
    }
   ],
   "source": [
    "import numpy as np\n",
    "\n",
    "f = [1.612, 0.605, 0.327, 0.946, 0.541, 1.539, 0.529, 0.628, 1.453, 0.297, 0.703, 0.269, 0.751, 0.245, 1.182, 0.515, 0.435, 0.383, 0.457, 0.73, 0.172, 0.142, 0.037, 0.453, 0.355, 0.022, 0.502, 0.273, 0.72, 0.582, 0.198, 0.198, 0.597, 0.516, 0.815, 0.402, 0.605, 0.711, 0.614, 0.468]\n",
    "forces_concat = np.array(f)\n",
    "\n",
    "empirical_diff_means = np.mean(force_a) - np.mean(force_b)\n",
    "\n",
    "\n",
    "\n",
    "# Compute mean of all forces: mean_force\n",
    "mean_force = np.mean(forces_concat)\n",
    "\n",
    "# Generate shifted arrays\n",
    "force_a_shifted = force_a - np.mean(force_a) + mean_force\n",
    "force_b_shifted = force_b - np.mean(force_b) + mean_force \n",
    "\n",
    "# Compute 10,000 bootstrap replicates from shifted arrays\n",
    "bs_replicates_a = draw_bs_reps(force_a_shifted, np.mean, size= 10000)\n",
    "bs_replicates_b = draw_bs_reps(force_b_shifted, np.mean, size= 10000)\n",
    "\n",
    "# Get replicates of difference of means: bs_replicates\n",
    "bs_replicates = bs_replicates_a - bs_replicates_b\n",
    "\n",
    "# Compute and print p-value: p\n",
    "p = np.sum(bs_replicates >= empirical_diff_means) / len(bs_replicates)\n",
    "print('p-value =', p)\n"
   ]
  },
  {
   "cell_type": "markdown",
   "metadata": {},
   "source": [
    "You got a similar result as when you did the permutation test. Nonetheless, remember that it is important to carefully think about what question you want to ask. Are you only interested in the mean impact force, or in the distribution of impact forces?"
   ]
  },
  {
   "cell_type": "code",
   "execution_count": null,
   "metadata": {},
   "outputs": [],
   "source": []
  },
  {
   "cell_type": "code",
   "execution_count": null,
   "metadata": {},
   "outputs": [],
   "source": []
  },
  {
   "cell_type": "code",
   "execution_count": null,
   "metadata": {},
   "outputs": [],
   "source": []
  },
  {
   "cell_type": "code",
   "execution_count": null,
   "metadata": {},
   "outputs": [],
   "source": [
    "def diff_of_means(data_1, data_2):\n",
    "    \"\"\"Difference in means of two arrays.\"\"\"\n",
    "\n",
    "    # The difference of means of data_1, data_2: diff\n",
    "    diff = np.mean(data_1) - np.mean(data_2)\n",
    "\n",
    "    return diff"
   ]
  }
 ],
 "metadata": {
  "kernelspec": {
   "display_name": "Python 3",
   "language": "python",
   "name": "python3"
  },
  "language_info": {
   "codemirror_mode": {
    "name": "ipython",
    "version": 3
   },
   "file_extension": ".py",
   "mimetype": "text/x-python",
   "name": "python",
   "nbconvert_exporter": "python",
   "pygments_lexer": "ipython3",
   "version": "3.7.4"
  }
 },
 "nbformat": 4,
 "nbformat_minor": 2
}
